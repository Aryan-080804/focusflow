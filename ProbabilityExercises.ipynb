{
  "nbformat": 4,
  "nbformat_minor": 0,
  "metadata": {
    "colab": {
      "provenance": [],
      "include_colab_link": true
    },
    "kernelspec": {
      "name": "python3",
      "display_name": "Python 3"
    },
    "language_info": {
      "name": "python"
    }
  },
  "cells": [
    {
      "cell_type": "markdown",
      "metadata": {
        "id": "view-in-github",
        "colab_type": "text"
      },
      "source": [
        "<a href=\"https://colab.research.google.com/github/Aryan-080804/focusflow/blob/main/ProbabilityExercises.ipynb\" target=\"_parent\"><img src=\"https://colab.research.google.com/assets/colab-badge.svg\" alt=\"Open In Colab\"/></a>"
      ]
    },
    {
      "cell_type": "markdown",
      "source": [
        "---\n",
        "\n",
        "# Exercise: Marginal Probability in a Tree-Structured Bayesian Network\n",
        "\n",
        "You are given a **Bayesian Network** represented as a **binary tree**, where each node is a **binary random variable** taking values in $\\{0, 1\\}$. The network is structured as a **rooted, directed acyclic graph (DAG)** — meaning:\n",
        "\n",
        "* Each node has **at most one parent**\n",
        "* The network has **no cycles**\n",
        "\n",
        "You are provided with a **conditional probability table (CPT)** for each node, and your task is to compute the **marginal probability $P(X = 1)$** for a specified node $X$, using recursive marginalization.\n",
        "\n",
        "---\n",
        "\n",
        "## Input\n",
        "\n",
        "You are given:\n",
        "\n",
        "1. A `networkx.DiGraph` object `G`, where each node represents a binary random variable.\n",
        "2. A dictionary `CPTs` that maps each node name to a conditional probability function:\n",
        "\n",
        "   * For root nodes: `CPTs[node]()` returns $P(\\text{node}=1)$\n",
        "   * For non-root nodes: `CPTs[node](p)` returns $P(\\text{node}=1 \\mid \\text{parent}=p)$, where `p ∈ {0, 1}`\n",
        "3. A query node `X` for which you must compute $P(X = 1)$\n",
        "\n",
        "---\n",
        "\n",
        "## Output\n",
        "\n",
        "Return a single `float`:\n",
        "\n",
        "* The marginal probability $P(X = 1)$\n",
        "\n",
        "---\n",
        "\n",
        "## Requirements\n",
        "\n",
        "* Your solution should run in **linear** time.\n",
        "* Assume the tree is **valid**, binary, and that `CPTs` are correct\n",
        "---"
      ],
      "metadata": {
        "id": "woZcp13Ig_bl"
      }
    },
    {
      "cell_type": "code",
      "execution_count": null,
      "metadata": {
        "id": "IXQKrETad26i"
      },
      "outputs": [],
      "source": [
        "import networkx as nx\n",
        "\n",
        "def marginal_prob(G: nx.DiGraph, CPTs: dict, query_node: str) -> float:\n",
        "    \"\"\"\n",
        "    Compute the marginal probability P(query_node = 1)\n",
        "    in a binary tree Bayesian network using recursive marginalization.\n",
        "\n",
        "    Parameters:\n",
        "    - G: nx.DiGraph representing the Bayesian network (a rooted binary tree)\n",
        "    - CPTs: dict of conditional probability functions\n",
        "    - query_node: node name (str)\n",
        "\n",
        "    Returns:\n",
        "    - P(query_node = 1) as a float\n",
        "    \"\"\"\n",
        "\n",
        "    # The following may be useful:\n",
        "    # G.predecessors(n)\n",
        "    root = next(n for n in G.nodes if G.in_degree(n) == 0)\n",
        "    children = { n: list(G.successors(n)) for n in G.nodes }\n",
        "    def P(i: str, s: int, p: int=None) -> float:\n",
        "        if G.in_degree(i) == 0:\n",
        "            # root: ignore p, just return P(i=1) or P(i=0)\n",
        "            p1 = CPTs[i]()\n",
        "        else:\n",
        "            p1 = CPTs[i](p)\n",
        "        return p1 if s == 1 else (1.0 - p1)\n",
        "    m = { }\n",
        "    def dfs_down(i):\n",
        "\n",
        "    # TODO\n",
        "    return None"
      ]
    },
    {
      "cell_type": "code",
      "source": [
        "# ============================================================================ #\n",
        "# Test Case 1                                                                  #\n",
        "# ============================================================================ #\n",
        "G = nx.DiGraph()\n",
        "G.add_edges_from([('A', 'B'), ('A', 'C')])\n",
        "\n",
        "CPTs = {\n",
        "    'A': lambda: 0.6,\n",
        "    'B': lambda a: 0.8 if a else 0.2,\n",
        "    'C': lambda a: 0.3 if a else 0.9,\n",
        "}\n",
        "print(f'P(A = 1): {marginal_prob(G, CPTs, \"A\"):.2f} | Expected: 0.60')\n",
        "print(f'P(C = 1): {marginal_prob(G, CPTs, \"C\"):.2f} | Expected: 0.54')\n",
        "# ============================================================================ #\n",
        "# Test Case 2                                                                  #\n",
        "# ============================================================================ #\n",
        "G = nx.DiGraph()\n",
        "G.add_nodes_from(['X0', 'X1', 'X2', 'X3', 'X4', 'X5', 'X6', 'X7', 'X8', 'X9'])\n",
        "G.add_edges_from([\n",
        "    ('X0', 'X1'), ('X0', 'X2'), ('X1', 'X3'), ('X1', 'X5'), ('X2', 'X6'),\n",
        "    ('X2', 'X7'), ('X3', 'X4'), ('X3', 'X9'), ('X4', 'X8')\n",
        "])\n",
        "\n",
        "CPTs = {\n",
        "    \"X0\": lambda: 0.8,  # P(X0=1)\n",
        "    \"X1\": lambda x0: 0.19 if x0 else 0.4,  # P(X1=1 | X0)\n",
        "    \"X2\": lambda x0: 0.12 if x0 else 0.27,  # P(X2=1 | X0)\n",
        "    \"X3\": lambda x1: 0.84 if x1 else 0.59,  # P(X3=1 | X1)\n",
        "    \"X4\": lambda x3: 0.5 if x3 else 0.77,  # P(X4=1 | X3)\n",
        "    \"X5\": lambda x1: 0.24 if x1 else 0.69,  # P(X5=1 | X1)\n",
        "    \"X6\": lambda x2: 0.9 if x2 else 0.32,  # P(X6=1 | X2)\n",
        "    \"X7\": lambda x2: 0.42 if x2 else 0.42,  # P(X7=1 | X2)\n",
        "    \"X8\": lambda x4: 0.85 if x4 else 0.79,  # P(X8=1 | X4)\n",
        "    \"X9\": lambda x3: 0.62 if x3 else 0.12,  # P(X9=1 | X3)\n",
        "}\n",
        "print(f'P(X3 = 1): {marginal_prob(G, CPTs, \"X3\"):.3f} | Expected: 0.648')\n",
        "print(f'P(X6 = 1): {marginal_prob(G, CPTs, \"X6\"):.3f} | Expected: 0.407')\n",
        "print(f'P(X7 = 1): {marginal_prob(G, CPTs, \"X7\"):.3f} | Expected: 0.420')\n",
        "print(f'P(X8 = 1): {marginal_prob(G, CPTs, \"X8\"):.3f} | Expected: 0.826')\n",
        "print(f'P(X9 = 1): {marginal_prob(G, CPTs, \"X9\"):.3f} | Expected: 0.444')\n",
        "# ============================================================================ #"
      ],
      "metadata": {
        "id": "FtNehyH8Fwvt"
      },
      "execution_count": null,
      "outputs": []
    },
    {
      "cell_type": "markdown",
      "source": [
        "---\n",
        "\n",
        "# Exercise: Compute $P(X = 1 \\mid E = e)$ in a Tree-Structured Bayesian Network\n",
        "\n",
        "Using the same setup as above, now compute $P(X = 1 \\mid E = e)$ for a single given node $E$ and the observed value $e$.\n",
        "\n",
        "---\n",
        "\n",
        "## Input\n",
        "\n",
        "* `G`: a `networkx.DiGraph` representing the Bayesian network (a tree)\n",
        "* `CPTs`: a dictionary of conditional probability functions:\n",
        "\n",
        "  * For root nodes: `CPTs[node]() → P(node = 1)`\n",
        "  * For other nodes: `CPTs[node](p) → P(node = 1 | parent = p)`\n",
        "* `X`: the name of the query node (str)\n",
        "* `E`: the name of the evidence node (str)\n",
        "* `e`: the observed value of the evidence node (0 or 1)\n",
        "\n",
        "---\n",
        "\n",
        "## Output\n",
        "\n",
        "Return $P(X = 1 | E = e)$.\n",
        "\n",
        "---\n",
        "\n",
        "## Requirements\n",
        "\n",
        "* Your solution should run in at worst **quadratic** time with respect to the **tree depth**. (Most of the solution should actually be in linear time, and it is possible to construct a linear solution as well.) This means you should not calculate $P(X = 1, E = e)$ directly by brute force, which would grow exponentially in the path length.\n",
        "* Assume the tree is **valid**, binary, and that `CPTs` are correct\n",
        "---"
      ],
      "metadata": {
        "id": "LT066TiipNqI"
      }
    },
    {
      "cell_type": "code",
      "source": [
        "def compute_p_x_given_e(G, CPTs, X, E, e):\n",
        "    \"\"\"\n",
        "    Compute P(X = 1 | E = e).\n",
        "    \"\"\"\n",
        "    # TODO\n",
        "    # Take some time to consider how you might go about efficiently computing this value.\n",
        "    return None"
      ],
      "metadata": {
        "id": "B5S_QNS6kfaQ"
      },
      "execution_count": null,
      "outputs": []
    },
    {
      "cell_type": "code",
      "source": [
        "# ============================================================================ #\n",
        "# Test Case 1                                                                  #\n",
        "# ============================================================================ #\n",
        "G = nx.DiGraph()\n",
        "G.add_edges_from([('A', 'B'), ('A', 'C')])\n",
        "\n",
        "CPTs = {\n",
        "    'A': lambda: 0.6,\n",
        "    'B': lambda a: 0.8 if a else 0.2,\n",
        "    'C': lambda a: 0.3 if a else 0.9,\n",
        "}\n",
        "print(f'P(B = 1 | C = 1): {compute_p_x_given_e(G, CPTs, \"B\", \"C\", 1):.3f} | Expected: 0.400')\n",
        "print(f'P(B = 1 | C = 0): {compute_p_x_given_e(G, CPTs, \"B\", \"C\", 0):.3f} | Expected: 0.748')\n",
        "# ============================================================================ #\n",
        "# Test Case 2                                                                  #\n",
        "# ============================================================================ #\n",
        "G = nx.DiGraph()\n",
        "G.add_nodes_from(['X0', 'X1', 'X2', 'X3', 'X4', 'X5', 'X6', 'X7', 'X8', 'X9'])\n",
        "G.add_edges_from([\n",
        "    ('X0', 'X1'), ('X0', 'X2'), ('X1', 'X3'), ('X1', 'X5'), ('X2', 'X6'),\n",
        "    ('X2', 'X7'), ('X3', 'X4'), ('X3', 'X9'), ('X4', 'X8')\n",
        "])\n",
        "\n",
        "CPTs = {\n",
        "    \"X0\": lambda: 0.8,  # P(X0=1)\n",
        "    \"X1\": lambda x0: 0.19 if x0 else 0.4,  # P(X1=1 | X0)\n",
        "    \"X2\": lambda x0: 0.12 if x0 else 0.27,  # P(X2=1 | X0)\n",
        "    \"X3\": lambda x1: 0.84 if x1 else 0.59,  # P(X3=1 | X1)\n",
        "    \"X4\": lambda x3: 0.5 if x3 else 0.77,  # P(X4=1 | X3)\n",
        "    \"X5\": lambda x1: 0.24 if x1 else 0.69,  # P(X5=1 | X1)\n",
        "    \"X6\": lambda x2: 0.9 if x2 else 0.32,  # P(X6=1 | X2)\n",
        "    \"X7\": lambda x2: 0.42 if x2 else 0.42,  # P(X7=1 | X2)\n",
        "    \"X8\": lambda x4: 0.85 if x4 else 0.79,  # P(X8=1 | X4)\n",
        "    \"X9\": lambda x3: 0.62 if x3 else 0.12,  # P(X9=1 | X3)\n",
        "}\n",
        "print(f'P(X9 = 1 | X6 = 1): {compute_p_x_given_e(G, CPTs, \"X9\", \"X6\", 1):.4f} | Expected: 0.4449')\n",
        "print(f'P(X6 = 1 | X0 = 0): {compute_p_x_given_e(G, CPTs, \"X6\", \"X0\", 0):.4f} | Expected: 0.4766')\n",
        "print(f'P(X3 = 1 | X4 = 1): {compute_p_x_given_e(G, CPTs, \"X3\", \"X4\", 1):.4f} | Expected: 0.5445')\n",
        "print(f'P(X0 = 1 | X6 = 0): {compute_p_x_given_e(G, CPTs, \"X0\", \"X6\", 0):.4f} | Expected: 0.8235')\n",
        "print(f'P(X3 = 1 | X2 = 0): {compute_p_x_given_e(G, CPTs, \"X3\", \"X2\", 0):.4f} | Expected: 0.6465')\n",
        "print(f'P(X7 = 1 | X5 = 1): {compute_p_x_given_e(G, CPTs, \"X7\", \"X5\", 1):.4f} | Expected: 0.4200')\n",
        "print(f'P(X2 = 1 | X7 = 1): {compute_p_x_given_e(G, CPTs, \"X2\", \"X7\", 1):.4f} | Expected: 0.1500')\n",
        "print(f'P(X2 = 1 | X2 = 1): {compute_p_x_given_e(G, CPTs, \"X2\", \"X2\", 1):.4f} | Expected: 1.0000')\n",
        "print(f'P(X2 = 1 | X2 = 0): {compute_p_x_given_e(G, CPTs, \"X2\", \"X2\", 0):.4f} | Expected: 0.0000')\n",
        "# ============================================================================ #"
      ],
      "metadata": {
        "id": "d3VBE1ANF2B6"
      },
      "execution_count": null,
      "outputs": []
    },
    {
      "cell_type": "markdown",
      "source": [
        "---\n",
        "\n",
        "# Challenge Exercise: Compute $P(X = 1 \\mid E = e)$ in a Tree-Structured Bayesian Network\n",
        "\n",
        "Using the same setup as above, now compute $P(X = 1 \\mid E = e)$ for **multiple** given nodes $E$ and the observed values $e$.\n",
        "\n",
        "\n",
        "---\n",
        "\n",
        "## Input\n",
        "\n",
        "* `G`: a `networkx.DiGraph` representing the Bayesian network (a tree)\n",
        "* `CPTs`: a dictionary of conditional probability functions:\n",
        "\n",
        "  * For root nodes: `CPTs[node]() → P(node = 1)`\n",
        "  * For other nodes: `CPTs[node](p) → P(node = 1 | parent = p)`\n",
        "* `X`: the name of the query node (str)\n",
        "* `evidence`: a dictionary with key: value pairs `E: e` as in the previous exercise\n",
        "\n",
        "---\n",
        "\n",
        "## Output\n",
        "\n",
        "Return $P(X = 1 | E = e)$.\n",
        "\n",
        "---\n",
        "\n",
        "## Requirements\n",
        "\n",
        "* Your solution should run in **linear time** with respect to the **number of nodes in the tree**.\n",
        "* Assume the tree is **valid**, binary, and that `CPTs` are correct\n",
        "---"
      ],
      "metadata": {
        "id": "W0Dv_IFsvO7n"
      }
    },
    {
      "cell_type": "code",
      "source": [
        "def compute_p_x_given_many_e(G, CPTs, X, evidence):\n",
        "    # Good luck!\n",
        "    return None"
      ],
      "metadata": {
        "id": "KTeZDcNiuz8M"
      },
      "execution_count": null,
      "outputs": []
    }
  ]
}